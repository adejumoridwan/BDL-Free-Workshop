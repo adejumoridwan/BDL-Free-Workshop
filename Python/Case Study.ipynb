{
 "cells": [
  {
   "cell_type": "markdown",
   "metadata": {},
   "source": [
    "# Analyzing Motorcyle Sales Data"
   ]
  },
  {
   "cell_type": "markdown",
   "metadata": {},
   "source": [
    "## Data Munging"
   ]
  },
  {
   "cell_type": "markdown",
   "metadata": {},
   "source": [
    "**Importing libraries**"
   ]
  },
  {
   "cell_type": "code",
   "execution_count": 1,
   "metadata": {},
   "outputs": [],
   "source": [
    "#allows plots to be displayed in notebooks and not on a new window\n",
    "%matplotlib inline \n",
    "import numpy as np\n",
    "import pandas as pd"
   ]
  },
  {
   "cell_type": "markdown",
   "metadata": {},
   "source": [
    "**Reading the motorcycles sales data**"
   ]
  },
  {
   "cell_type": "code",
   "execution_count": 3,
   "metadata": {},
   "outputs": [],
   "source": [
    "sales  = pd.read_csv(\"sales.csv\")"
   ]
  },
  {
   "cell_type": "code",
   "execution_count": 5,
   "metadata": {},
   "outputs": [
    {
     "data": {
      "text/html": [
       "<div>\n",
       "<style scoped>\n",
       "    .dataframe tbody tr th:only-of-type {\n",
       "        vertical-align: middle;\n",
       "    }\n",
       "\n",
       "    .dataframe tbody tr th {\n",
       "        vertical-align: top;\n",
       "    }\n",
       "\n",
       "    .dataframe thead th {\n",
       "        text-align: right;\n",
       "    }\n",
       "</style>\n",
       "<table border=\"1\" class=\"dataframe\">\n",
       "  <thead>\n",
       "    <tr style=\"text-align: right;\">\n",
       "      <th></th>\n",
       "      <th>date</th>\n",
       "      <th>warehouse</th>\n",
       "      <th>client_type</th>\n",
       "      <th>product_line</th>\n",
       "      <th>quantity</th>\n",
       "      <th>unit_price</th>\n",
       "      <th>total</th>\n",
       "      <th>payment</th>\n",
       "    </tr>\n",
       "  </thead>\n",
       "  <tbody>\n",
       "    <tr>\n",
       "      <th>0</th>\n",
       "      <td>1/6/2021</td>\n",
       "      <td>Central</td>\n",
       "      <td>Retail</td>\n",
       "      <td>Miscellaneous</td>\n",
       "      <td>8</td>\n",
       "      <td>16.85</td>\n",
       "      <td>134.83</td>\n",
       "      <td>Credit card</td>\n",
       "    </tr>\n",
       "    <tr>\n",
       "      <th>1</th>\n",
       "      <td>1/6/2021</td>\n",
       "      <td>North</td>\n",
       "      <td>Retail</td>\n",
       "      <td>Breaking system</td>\n",
       "      <td>9</td>\n",
       "      <td>19.29</td>\n",
       "      <td>173.61</td>\n",
       "      <td>Cash</td>\n",
       "    </tr>\n",
       "    <tr>\n",
       "      <th>2</th>\n",
       "      <td>1/6/2021</td>\n",
       "      <td>North</td>\n",
       "      <td>Retail</td>\n",
       "      <td>Suspension &amp; traction</td>\n",
       "      <td>8</td>\n",
       "      <td>32.93</td>\n",
       "      <td>263.45</td>\n",
       "      <td>Credit card</td>\n",
       "    </tr>\n",
       "    <tr>\n",
       "      <th>3</th>\n",
       "      <td>1/6/2021</td>\n",
       "      <td>North</td>\n",
       "      <td>Wholesale</td>\n",
       "      <td>Frame &amp; body</td>\n",
       "      <td>16</td>\n",
       "      <td>37.84</td>\n",
       "      <td>605.44</td>\n",
       "      <td>Transfer</td>\n",
       "    </tr>\n",
       "    <tr>\n",
       "      <th>4</th>\n",
       "      <td>1/6/2021</td>\n",
       "      <td>Central</td>\n",
       "      <td>Retail</td>\n",
       "      <td>Engine</td>\n",
       "      <td>2</td>\n",
       "      <td>60.48</td>\n",
       "      <td>120.96</td>\n",
       "      <td>Credit card</td>\n",
       "    </tr>\n",
       "  </tbody>\n",
       "</table>\n",
       "</div>"
      ],
      "text/plain": [
       "       date warehouse client_type           product_line  quantity  \\\n",
       "0  1/6/2021   Central      Retail          Miscellaneous         8   \n",
       "1  1/6/2021     North      Retail        Breaking system         9   \n",
       "2  1/6/2021     North      Retail  Suspension & traction         8   \n",
       "3  1/6/2021     North   Wholesale           Frame & body        16   \n",
       "4  1/6/2021   Central      Retail                 Engine         2   \n",
       "\n",
       "   unit_price   total      payment  \n",
       "0       16.85  134.83  Credit card  \n",
       "1       19.29  173.61         Cash  \n",
       "2       32.93  263.45  Credit card  \n",
       "3       37.84  605.44     Transfer  \n",
       "4       60.48  120.96  Credit card  "
      ]
     },
     "execution_count": 5,
     "metadata": {},
     "output_type": "execute_result"
    }
   ],
   "source": [
    "sales.head()"
   ]
  },
  {
   "cell_type": "code",
   "execution_count": 6,
   "metadata": {},
   "outputs": [
    {
     "data": {
      "text/plain": [
       "date             object\n",
       "warehouse        object\n",
       "client_type      object\n",
       "product_line     object\n",
       "quantity          int64\n",
       "unit_price      float64\n",
       "total           float64\n",
       "payment          object\n",
       "dtype: object"
      ]
     },
     "execution_count": 6,
     "metadata": {},
     "output_type": "execute_result"
    }
   ],
   "source": [
    "sales.dtypes"
   ]
  },
  {
   "cell_type": "markdown",
   "metadata": {},
   "source": [
    "**Viewing the first 5 rows of the data**"
   ]
  },
  {
   "cell_type": "code",
   "execution_count": 37,
   "metadata": {},
   "outputs": [
    {
     "data": {
      "text/html": [
       "<div>\n",
       "<style scoped>\n",
       "    .dataframe tbody tr th:only-of-type {\n",
       "        vertical-align: middle;\n",
       "    }\n",
       "\n",
       "    .dataframe tbody tr th {\n",
       "        vertical-align: top;\n",
       "    }\n",
       "\n",
       "    .dataframe thead th {\n",
       "        text-align: right;\n",
       "    }\n",
       "</style>\n",
       "<table border=\"1\" class=\"dataframe\">\n",
       "  <thead>\n",
       "    <tr style=\"text-align: right;\">\n",
       "      <th></th>\n",
       "      <th>date</th>\n",
       "      <th>warehouse</th>\n",
       "      <th>client_type</th>\n",
       "      <th>product_line</th>\n",
       "      <th>quantity</th>\n",
       "      <th>unit_price</th>\n",
       "      <th>total</th>\n",
       "      <th>payment</th>\n",
       "    </tr>\n",
       "  </thead>\n",
       "  <tbody>\n",
       "    <tr>\n",
       "      <th>0</th>\n",
       "      <td>01/06/2021</td>\n",
       "      <td>Central</td>\n",
       "      <td>Retail</td>\n",
       "      <td>Miscellaneous</td>\n",
       "      <td>8</td>\n",
       "      <td>16.85</td>\n",
       "      <td>134.83</td>\n",
       "      <td>Credit card</td>\n",
       "    </tr>\n",
       "    <tr>\n",
       "      <th>1</th>\n",
       "      <td>01/06/2021</td>\n",
       "      <td>North</td>\n",
       "      <td>Retail</td>\n",
       "      <td>Breaking system</td>\n",
       "      <td>9</td>\n",
       "      <td>19.29</td>\n",
       "      <td>173.61</td>\n",
       "      <td>Cash</td>\n",
       "    </tr>\n",
       "    <tr>\n",
       "      <th>2</th>\n",
       "      <td>01/06/2021</td>\n",
       "      <td>North</td>\n",
       "      <td>Retail</td>\n",
       "      <td>Suspension &amp; traction</td>\n",
       "      <td>8</td>\n",
       "      <td>32.93</td>\n",
       "      <td>263.45</td>\n",
       "      <td>Credit card</td>\n",
       "    </tr>\n",
       "    <tr>\n",
       "      <th>3</th>\n",
       "      <td>01/06/2021</td>\n",
       "      <td>North</td>\n",
       "      <td>Wholesale</td>\n",
       "      <td>Frame &amp; body</td>\n",
       "      <td>16</td>\n",
       "      <td>37.84</td>\n",
       "      <td>605.44</td>\n",
       "      <td>Transfer</td>\n",
       "    </tr>\n",
       "    <tr>\n",
       "      <th>4</th>\n",
       "      <td>01/06/2021</td>\n",
       "      <td>Central</td>\n",
       "      <td>Retail</td>\n",
       "      <td>Engine</td>\n",
       "      <td>2</td>\n",
       "      <td>60.48</td>\n",
       "      <td>120.96</td>\n",
       "      <td>Credit card</td>\n",
       "    </tr>\n",
       "  </tbody>\n",
       "</table>\n",
       "</div>"
      ],
      "text/plain": [
       "         date warehouse client_type           product_line  quantity  \\\n",
       "0  01/06/2021   Central      Retail          Miscellaneous         8   \n",
       "1  01/06/2021     North      Retail        Breaking system         9   \n",
       "2  01/06/2021     North      Retail  Suspension & traction         8   \n",
       "3  01/06/2021     North   Wholesale           Frame & body        16   \n",
       "4  01/06/2021   Central      Retail                 Engine         2   \n",
       "\n",
       "   unit_price   total      payment  \n",
       "0       16.85  134.83  Credit card  \n",
       "1       19.29  173.61         Cash  \n",
       "2       32.93  263.45  Credit card  \n",
       "3       37.84  605.44     Transfer  \n",
       "4       60.48  120.96  Credit card  "
      ]
     },
     "execution_count": 37,
     "metadata": {},
     "output_type": "execute_result"
    }
   ],
   "source": [
    "sales.head()"
   ]
  },
  {
   "cell_type": "markdown",
   "metadata": {},
   "source": [
    "**Determine the number of rows and columns in the dataset**"
   ]
  },
  {
   "cell_type": "code",
   "execution_count": 7,
   "metadata": {},
   "outputs": [
    {
     "data": {
      "text/plain": [
       "(1000, 8)"
      ]
     },
     "execution_count": 7,
     "metadata": {},
     "output_type": "execute_result"
    }
   ],
   "source": [
    "sales.shape"
   ]
  },
  {
   "cell_type": "markdown",
   "metadata": {},
   "source": [
    "**Get column names in the dataset**"
   ]
  },
  {
   "cell_type": "code",
   "execution_count": 9,
   "metadata": {},
   "outputs": [
    {
     "data": {
      "text/plain": [
       "Index(['date', 'warehouse', 'client_type', 'product_line', 'quantity',\n",
       "       'unit_price', 'total', 'payment'],\n",
       "      dtype='object')"
      ]
     },
     "execution_count": 9,
     "metadata": {},
     "output_type": "execute_result"
    }
   ],
   "source": [
    "sales.columns"
   ]
  },
  {
   "cell_type": "markdown",
   "metadata": {},
   "source": [
    "**Get the first five rows of a column by name**"
   ]
  },
  {
   "cell_type": "code",
   "execution_count": 11,
   "metadata": {},
   "outputs": [
    {
     "data": {
      "text/plain": [
       "0       Retail\n",
       "1       Retail\n",
       "2       Retail\n",
       "3    Wholesale\n",
       "4       Retail\n",
       "5    Wholesale\n",
       "Name: client_type, dtype: object"
      ]
     },
     "execution_count": 11,
     "metadata": {},
     "output_type": "execute_result"
    }
   ],
   "source": [
    "sales[\"client_type\"][0:6]"
   ]
  },
  {
   "cell_type": "code",
   "execution_count": 40,
   "metadata": {},
   "outputs": [
    {
     "data": {
      "text/plain": [
       "1      North\n",
       "2      North\n",
       "3      North\n",
       "4    Central\n",
       "Name: warehouse, dtype: object"
      ]
     },
     "execution_count": 40,
     "metadata": {},
     "output_type": "execute_result"
    }
   ],
   "source": [
    "sales[\"warehouse\"][1:5]"
   ]
  },
  {
   "cell_type": "markdown",
   "metadata": {},
   "source": [
    "**Create categorical ranges for numerical data**"
   ]
  },
  {
   "cell_type": "code",
   "execution_count": 14,
   "metadata": {},
   "outputs": [
    {
     "data": {
      "text/plain": [
       "0      (7.814, 137.149]\n",
       "1    (137.149, 263.948]\n",
       "2    (137.149, 263.948]\n",
       "3    (517.546, 644.345]\n",
       "4      (7.814, 137.149]\n",
       "Name: total, dtype: category\n",
       "Categories (20, interval[float64, right]): [(7.814, 137.149] < (137.149, 263.948] < (263.948, 390.747] < (390.747, 517.546] ... (2039.134, 2165.933] < (2165.933, 2292.732] < (2292.732, 2419.531] < (2419.531, 2546.33]]"
      ]
     },
     "execution_count": 14,
     "metadata": {},
     "output_type": "execute_result"
    }
   ],
   "source": [
    "price_range = pd.cut(sales[\"total\"],20)\n",
    "price_range[:5]"
   ]
  },
  {
   "cell_type": "code",
   "execution_count": 12,
   "metadata": {},
   "outputs": [
    {
     "data": {
      "text/plain": [
       "0      134.83\n",
       "1      173.61\n",
       "2      263.45\n",
       "3      605.44\n",
       "4      120.96\n",
       "        ...  \n",
       "995    295.83\n",
       "996    320.96\n",
       "997    393.64\n",
       "998    241.23\n",
       "999    548.13\n",
       "Name: total, Length: 1000, dtype: float64"
      ]
     },
     "execution_count": 12,
     "metadata": {},
     "output_type": "execute_result"
    }
   ],
   "source": [
    "sales[\"total\"]"
   ]
  },
  {
   "cell_type": "markdown",
   "metadata": {},
   "source": [
    "**Value counts in the ranges created above**"
   ]
  },
  {
   "cell_type": "code",
   "execution_count": 15,
   "metadata": {},
   "outputs": [
    {
     "data": {
      "text/plain": [
       "(7.814, 137.149]        390\n",
       "(137.149, 263.948]      291\n",
       "(263.948, 390.747]      117\n",
       "(390.747, 517.546]       61\n",
       "(517.546, 644.345]       37\n",
       "(771.144, 897.943]       20\n",
       "(644.345, 771.144]       17\n",
       "(1024.742, 1151.541]     15\n",
       "(897.943, 1024.742]      13\n",
       "(1151.541, 1278.34]      10\n",
       "(1405.139, 1531.938]      8\n",
       "(1658.737, 1785.536]      5\n",
       "(1531.938, 1658.737]      5\n",
       "(1278.34, 1405.139]       4\n",
       "(2165.933, 2292.732]      3\n",
       "(1785.536, 1912.335]      2\n",
       "(2292.732, 2419.531]      1\n",
       "(2419.531, 2546.33]       1\n",
       "(1912.335, 2039.134]      0\n",
       "(2039.134, 2165.933]      0\n",
       "Name: total, dtype: int64"
      ]
     },
     "execution_count": 15,
     "metadata": {},
     "output_type": "execute_result"
    }
   ],
   "source": [
    "pd.value_counts(price_range)"
   ]
  },
  {
   "cell_type": "markdown",
   "metadata": {},
   "source": [
    "**Index the columns of the first row**"
   ]
  },
  {
   "cell_type": "code",
   "execution_count": 51,
   "metadata": {},
   "outputs": [
    {
     "data": {
      "text/plain": [
       "date               01/06/2021\n",
       "warehouse             Central\n",
       "client_type            Retail\n",
       "product_line    Miscellaneous\n",
       "quantity                    8\n",
       "unit_price              16.85\n",
       "total                  134.83\n",
       "payment           Credit card\n",
       "Name: 0, dtype: object"
      ]
     },
     "execution_count": 51,
     "metadata": {},
     "output_type": "execute_result"
    }
   ],
   "source": [
    "sales.iloc[0,:]"
   ]
  },
  {
   "cell_type": "code",
   "execution_count": 19,
   "metadata": {},
   "outputs": [
    {
     "data": {
      "text/plain": [
       "date               1/6/2021\n",
       "warehouse           Central\n",
       "client_type          Retail\n",
       "product_line         Engine\n",
       "quantity                  2\n",
       "unit_price            60.48\n",
       "total                120.96\n",
       "payment         Credit card\n",
       "Name: 4, dtype: object"
      ]
     },
     "execution_count": 19,
     "metadata": {},
     "output_type": "execute_result"
    }
   ],
   "source": [
    "sales.loc[4,:]"
   ]
  },
  {
   "cell_type": "markdown",
   "metadata": {},
   "source": [
    "**Order the data by a specifiec column**"
   ]
  },
  {
   "cell_type": "code",
   "execution_count": 20,
   "metadata": {},
   "outputs": [
    {
     "data": {
      "text/plain": [
       "274      10.35\n",
       "576      10.42\n",
       "65       10.46\n",
       "262      10.90\n",
       "874      10.92\n",
       "        ...   \n",
       "799    2186.16\n",
       "316    2232.66\n",
       "48     2282.82\n",
       "704    2324.20\n",
       "774    2546.33\n",
       "Name: total, Length: 1000, dtype: float64"
      ]
     },
     "execution_count": 20,
     "metadata": {},
     "output_type": "execute_result"
    }
   ],
   "source": [
    "sales[\"total\"].sort_values()"
   ]
  },
  {
   "cell_type": "markdown",
   "metadata": {},
   "source": [
    "**Sort data by a column and obtain a cross-section of the data**"
   ]
  },
  {
   "cell_type": "code",
   "execution_count": 24,
   "metadata": {},
   "outputs": [
    {
     "data": {
      "text/html": [
       "<div>\n",
       "<style scoped>\n",
       "    .dataframe tbody tr th:only-of-type {\n",
       "        vertical-align: middle;\n",
       "    }\n",
       "\n",
       "    .dataframe tbody tr th {\n",
       "        vertical-align: top;\n",
       "    }\n",
       "\n",
       "    .dataframe thead th {\n",
       "        text-align: right;\n",
       "    }\n",
       "</style>\n",
       "<table border=\"1\" class=\"dataframe\">\n",
       "  <thead>\n",
       "    <tr style=\"text-align: right;\">\n",
       "      <th></th>\n",
       "      <th>date</th>\n",
       "      <th>warehouse</th>\n",
       "      <th>client_type</th>\n",
       "      <th>product_line</th>\n",
       "      <th>quantity</th>\n",
       "      <th>unit_price</th>\n",
       "      <th>total</th>\n",
       "      <th>payment</th>\n",
       "    </tr>\n",
       "  </thead>\n",
       "  <tbody>\n",
       "    <tr>\n",
       "      <th>369</th>\n",
       "      <td>3/7/2021</td>\n",
       "      <td>North</td>\n",
       "      <td>Retail</td>\n",
       "      <td>Engine</td>\n",
       "      <td>1</td>\n",
       "      <td>53.06</td>\n",
       "      <td>53.06</td>\n",
       "      <td>Credit card</td>\n",
       "    </tr>\n",
       "    <tr>\n",
       "      <th>817</th>\n",
       "      <td>11/8/2021</td>\n",
       "      <td>West</td>\n",
       "      <td>Retail</td>\n",
       "      <td>Breaking system</td>\n",
       "      <td>1</td>\n",
       "      <td>17.75</td>\n",
       "      <td>17.75</td>\n",
       "      <td>Credit card</td>\n",
       "    </tr>\n",
       "    <tr>\n",
       "      <th>177</th>\n",
       "      <td>18/06/2021</td>\n",
       "      <td>West</td>\n",
       "      <td>Retail</td>\n",
       "      <td>Electrical system</td>\n",
       "      <td>1</td>\n",
       "      <td>23.24</td>\n",
       "      <td>23.24</td>\n",
       "      <td>Credit card</td>\n",
       "    </tr>\n",
       "    <tr>\n",
       "      <th>412</th>\n",
       "      <td>7/7/2021</td>\n",
       "      <td>West</td>\n",
       "      <td>Retail</td>\n",
       "      <td>Miscellaneous</td>\n",
       "      <td>1</td>\n",
       "      <td>22.07</td>\n",
       "      <td>22.07</td>\n",
       "      <td>Credit card</td>\n",
       "    </tr>\n",
       "    <tr>\n",
       "      <th>898</th>\n",
       "      <td>18/08/2021</td>\n",
       "      <td>Central</td>\n",
       "      <td>Retail</td>\n",
       "      <td>Breaking system</td>\n",
       "      <td>1</td>\n",
       "      <td>13.94</td>\n",
       "      <td>13.94</td>\n",
       "      <td>Credit card</td>\n",
       "    </tr>\n",
       "    <tr>\n",
       "      <th>...</th>\n",
       "      <td>...</td>\n",
       "      <td>...</td>\n",
       "      <td>...</td>\n",
       "      <td>...</td>\n",
       "      <td>...</td>\n",
       "      <td>...</td>\n",
       "      <td>...</td>\n",
       "      <td>...</td>\n",
       "    </tr>\n",
       "    <tr>\n",
       "      <th>493</th>\n",
       "      <td>13/07/2021</td>\n",
       "      <td>Central</td>\n",
       "      <td>Wholesale</td>\n",
       "      <td>Suspension &amp; traction</td>\n",
       "      <td>40</td>\n",
       "      <td>35.06</td>\n",
       "      <td>1402.53</td>\n",
       "      <td>Transfer</td>\n",
       "    </tr>\n",
       "    <tr>\n",
       "      <th>755</th>\n",
       "      <td>6/8/2021</td>\n",
       "      <td>North</td>\n",
       "      <td>Wholesale</td>\n",
       "      <td>Suspension &amp; traction</td>\n",
       "      <td>40</td>\n",
       "      <td>40.11</td>\n",
       "      <td>1604.33</td>\n",
       "      <td>Transfer</td>\n",
       "    </tr>\n",
       "    <tr>\n",
       "      <th>360</th>\n",
       "      <td>3/7/2021</td>\n",
       "      <td>North</td>\n",
       "      <td>Wholesale</td>\n",
       "      <td>Breaking system</td>\n",
       "      <td>40</td>\n",
       "      <td>15.52</td>\n",
       "      <td>620.87</td>\n",
       "      <td>Transfer</td>\n",
       "    </tr>\n",
       "    <tr>\n",
       "      <th>416</th>\n",
       "      <td>7/7/2021</td>\n",
       "      <td>Central</td>\n",
       "      <td>Wholesale</td>\n",
       "      <td>Electrical system</td>\n",
       "      <td>40</td>\n",
       "      <td>20.98</td>\n",
       "      <td>839.33</td>\n",
       "      <td>Transfer</td>\n",
       "    </tr>\n",
       "    <tr>\n",
       "      <th>314</th>\n",
       "      <td>28/06/2021</td>\n",
       "      <td>Central</td>\n",
       "      <td>Wholesale</td>\n",
       "      <td>Suspension &amp; traction</td>\n",
       "      <td>40</td>\n",
       "      <td>28.57</td>\n",
       "      <td>1142.87</td>\n",
       "      <td>Transfer</td>\n",
       "    </tr>\n",
       "  </tbody>\n",
       "</table>\n",
       "<p>1000 rows × 8 columns</p>\n",
       "</div>"
      ],
      "text/plain": [
       "           date warehouse client_type           product_line  quantity  \\\n",
       "369    3/7/2021     North      Retail                 Engine         1   \n",
       "817   11/8/2021      West      Retail        Breaking system         1   \n",
       "177  18/06/2021      West      Retail      Electrical system         1   \n",
       "412    7/7/2021      West      Retail          Miscellaneous         1   \n",
       "898  18/08/2021   Central      Retail        Breaking system         1   \n",
       "..          ...       ...         ...                    ...       ...   \n",
       "493  13/07/2021   Central   Wholesale  Suspension & traction        40   \n",
       "755    6/8/2021     North   Wholesale  Suspension & traction        40   \n",
       "360    3/7/2021     North   Wholesale        Breaking system        40   \n",
       "416    7/7/2021   Central   Wholesale      Electrical system        40   \n",
       "314  28/06/2021   Central   Wholesale  Suspension & traction        40   \n",
       "\n",
       "     unit_price    total      payment  \n",
       "369       53.06    53.06  Credit card  \n",
       "817       17.75    17.75  Credit card  \n",
       "177       23.24    23.24  Credit card  \n",
       "412       22.07    22.07  Credit card  \n",
       "898       13.94    13.94  Credit card  \n",
       "..          ...      ...          ...  \n",
       "493       35.06  1402.53     Transfer  \n",
       "755       40.11  1604.33     Transfer  \n",
       "360       15.52   620.87     Transfer  \n",
       "416       20.98   839.33     Transfer  \n",
       "314       28.57  1142.87     Transfer  \n",
       "\n",
       "[1000 rows x 8 columns]"
      ]
     },
     "execution_count": 24,
     "metadata": {},
     "output_type": "execute_result"
    }
   ],
   "source": [
    "sorted_data = sales.sort_values([\"quantity\"], ascending=True)\n",
    "sorted_data"
   ]
  },
  {
   "cell_type": "code",
   "execution_count": 59,
   "metadata": {},
   "outputs": [
    {
     "data": {
      "text/html": [
       "<div>\n",
       "<style scoped>\n",
       "    .dataframe tbody tr th:only-of-type {\n",
       "        vertical-align: middle;\n",
       "    }\n",
       "\n",
       "    .dataframe tbody tr th {\n",
       "        vertical-align: top;\n",
       "    }\n",
       "\n",
       "    .dataframe thead th {\n",
       "        text-align: right;\n",
       "    }\n",
       "</style>\n",
       "<table border=\"1\" class=\"dataframe\">\n",
       "  <thead>\n",
       "    <tr style=\"text-align: right;\">\n",
       "      <th></th>\n",
       "      <th>date</th>\n",
       "      <th>warehouse</th>\n",
       "      <th>client_type</th>\n",
       "      <th>product_line</th>\n",
       "      <th>quantity</th>\n",
       "      <th>unit_price</th>\n",
       "      <th>total</th>\n",
       "      <th>payment</th>\n",
       "    </tr>\n",
       "  </thead>\n",
       "  <tbody>\n",
       "    <tr>\n",
       "      <th>774</th>\n",
       "      <td>08/08/2021</td>\n",
       "      <td>Central</td>\n",
       "      <td>Wholesale</td>\n",
       "      <td>Engine</td>\n",
       "      <td>40</td>\n",
       "      <td>63.66</td>\n",
       "      <td>2546.33</td>\n",
       "      <td>Transfer</td>\n",
       "    </tr>\n",
       "    <tr>\n",
       "      <th>704</th>\n",
       "      <td>02/08/2021</td>\n",
       "      <td>North</td>\n",
       "      <td>Wholesale</td>\n",
       "      <td>Engine</td>\n",
       "      <td>40</td>\n",
       "      <td>58.10</td>\n",
       "      <td>2324.20</td>\n",
       "      <td>Transfer</td>\n",
       "    </tr>\n",
       "    <tr>\n",
       "      <th>48</th>\n",
       "      <td>06/06/2021</td>\n",
       "      <td>Central</td>\n",
       "      <td>Wholesale</td>\n",
       "      <td>Engine</td>\n",
       "      <td>36</td>\n",
       "      <td>63.41</td>\n",
       "      <td>2282.82</td>\n",
       "      <td>Transfer</td>\n",
       "    </tr>\n",
       "    <tr>\n",
       "      <th>316</th>\n",
       "      <td>28/06/2021</td>\n",
       "      <td>Central</td>\n",
       "      <td>Wholesale</td>\n",
       "      <td>Engine</td>\n",
       "      <td>36</td>\n",
       "      <td>62.02</td>\n",
       "      <td>2232.66</td>\n",
       "      <td>Transfer</td>\n",
       "    </tr>\n",
       "    <tr>\n",
       "      <th>799</th>\n",
       "      <td>10/08/2021</td>\n",
       "      <td>Central</td>\n",
       "      <td>Wholesale</td>\n",
       "      <td>Engine</td>\n",
       "      <td>36</td>\n",
       "      <td>60.73</td>\n",
       "      <td>2186.16</td>\n",
       "      <td>Transfer</td>\n",
       "    </tr>\n",
       "  </tbody>\n",
       "</table>\n",
       "</div>"
      ],
      "text/plain": [
       "           date warehouse client_type product_line  quantity  unit_price  \\\n",
       "774  08/08/2021   Central   Wholesale       Engine        40       63.66   \n",
       "704  02/08/2021     North   Wholesale       Engine        40       58.10   \n",
       "48   06/06/2021   Central   Wholesale       Engine        36       63.41   \n",
       "316  28/06/2021   Central   Wholesale       Engine        36       62.02   \n",
       "799  10/08/2021   Central   Wholesale       Engine        36       60.73   \n",
       "\n",
       "       total   payment  \n",
       "774  2546.33  Transfer  \n",
       "704  2324.20  Transfer  \n",
       "48   2282.82  Transfer  \n",
       "316  2232.66  Transfer  \n",
       "799  2186.16  Transfer  "
      ]
     },
     "execution_count": 59,
     "metadata": {},
     "output_type": "execute_result"
    }
   ],
   "source": [
    "sorted_data = sales.sort_values([\"total\"], ascending=False)\n",
    "sorted_data.iloc[:,:].head(5)"
   ]
  },
  {
   "cell_type": "markdown",
   "metadata": {},
   "source": [
    "**Obtain Value Counts of all columns**"
   ]
  },
  {
   "cell_type": "code",
   "execution_count": 26,
   "metadata": {},
   "outputs": [
    {
     "data": {
      "text/plain": [
       "Breaking system          230\n",
       "Suspension & traction    228\n",
       "Electrical system        193\n",
       "Frame & body             166\n",
       "Miscellaneous            122\n",
       "Engine                    61\n",
       "Name: product_line, dtype: int64"
      ]
     },
     "execution_count": 26,
     "metadata": {},
     "output_type": "execute_result"
    }
   ],
   "source": [
    "sales[\"product_line\"].value_counts()"
   ]
  },
  {
   "cell_type": "code",
   "execution_count": 63,
   "metadata": {},
   "outputs": [
    {
     "data": {
      "text/plain": [
       "(Central    480\n",
       " North      340\n",
       " West       180\n",
       " Name: warehouse, dtype: int64,\n",
       " Breaking system          230\n",
       " Suspension & traction    228\n",
       " Electrical system        193\n",
       " Frame & body             166\n",
       " Miscellaneous            122\n",
       " Engine                    61\n",
       " Name: product_line, dtype: int64,\n",
       " Retail       775\n",
       " Wholesale    225\n",
       " Name: client_type, dtype: int64)"
      ]
     },
     "execution_count": 63,
     "metadata": {},
     "output_type": "execute_result"
    }
   ],
   "source": [
    "sales[\"warehouse\"].value_counts(), sales[\"product_line\"].value_counts(), sales[\"client_type\"].value_counts()"
   ]
  },
  {
   "cell_type": "markdown",
   "metadata": {},
   "source": [
    "**Order the data by a specified column**"
   ]
  },
  {
   "cell_type": "code",
   "execution_count": 66,
   "metadata": {},
   "outputs": [
    {
     "data": {
      "text/plain": [
       "date             object\n",
       "warehouse        object\n",
       "client_type      object\n",
       "product_line     object\n",
       "quantity          int64\n",
       "unit_price      float64\n",
       "total           float64\n",
       "payment          object\n",
       "dtype: object"
      ]
     },
     "execution_count": 66,
     "metadata": {},
     "output_type": "execute_result"
    }
   ],
   "source": [
    "sales.dtypes"
   ]
  },
  {
   "cell_type": "markdown",
   "metadata": {},
   "source": [
    "**Get the unique value of a column by names**"
   ]
  },
  {
   "cell_type": "code",
   "execution_count": 27,
   "metadata": {},
   "outputs": [
    {
     "data": {
      "text/plain": [
       "array(['Miscellaneous', 'Breaking system', 'Suspension & traction',\n",
       "       'Frame & body', 'Engine', 'Electrical system'], dtype=object)"
      ]
     },
     "execution_count": 27,
     "metadata": {},
     "output_type": "execute_result"
    }
   ],
   "source": [
    "sales[\"product_line\"].unique()"
   ]
  },
  {
   "cell_type": "markdown",
   "metadata": {},
   "source": [
    "**Get the unique count of the unique values of a column**"
   ]
  },
  {
   "cell_type": "code",
   "execution_count": 68,
   "metadata": {},
   "outputs": [
    {
     "data": {
      "text/plain": [
       "6"
      ]
     },
     "execution_count": 68,
     "metadata": {},
     "output_type": "execute_result"
    }
   ],
   "source": [
    "len(sales[\"product_line\"].unique())"
   ]
  },
  {
   "cell_type": "markdown",
   "metadata": {},
   "source": [
    "**Index into a column and get the first four rows**"
   ]
  },
  {
   "cell_type": "code",
   "execution_count": 28,
   "metadata": {},
   "outputs": [
    {
     "data": {
      "text/html": [
       "<div>\n",
       "<style scoped>\n",
       "    .dataframe tbody tr th:only-of-type {\n",
       "        vertical-align: middle;\n",
       "    }\n",
       "\n",
       "    .dataframe tbody tr th {\n",
       "        vertical-align: top;\n",
       "    }\n",
       "\n",
       "    .dataframe thead th {\n",
       "        text-align: right;\n",
       "    }\n",
       "</style>\n",
       "<table border=\"1\" class=\"dataframe\">\n",
       "  <thead>\n",
       "    <tr style=\"text-align: right;\">\n",
       "      <th></th>\n",
       "      <th>total</th>\n",
       "      <th>payment</th>\n",
       "    </tr>\n",
       "  </thead>\n",
       "  <tbody>\n",
       "    <tr>\n",
       "      <th>0</th>\n",
       "      <td>134.83</td>\n",
       "      <td>Credit card</td>\n",
       "    </tr>\n",
       "    <tr>\n",
       "      <th>1</th>\n",
       "      <td>173.61</td>\n",
       "      <td>Cash</td>\n",
       "    </tr>\n",
       "    <tr>\n",
       "      <th>2</th>\n",
       "      <td>263.45</td>\n",
       "      <td>Credit card</td>\n",
       "    </tr>\n",
       "    <tr>\n",
       "      <th>3</th>\n",
       "      <td>605.44</td>\n",
       "      <td>Transfer</td>\n",
       "    </tr>\n",
       "    <tr>\n",
       "      <th>4</th>\n",
       "      <td>120.96</td>\n",
       "      <td>Credit card</td>\n",
       "    </tr>\n",
       "    <tr>\n",
       "      <th>5</th>\n",
       "      <td>1494.80</td>\n",
       "      <td>Transfer</td>\n",
       "    </tr>\n",
       "    <tr>\n",
       "      <th>6</th>\n",
       "      <td>54.41</td>\n",
       "      <td>Credit card</td>\n",
       "    </tr>\n",
       "    <tr>\n",
       "      <th>7</th>\n",
       "      <td>224.38</td>\n",
       "      <td>Credit card</td>\n",
       "    </tr>\n",
       "    <tr>\n",
       "      <th>8</th>\n",
       "      <td>1579.87</td>\n",
       "      <td>Transfer</td>\n",
       "    </tr>\n",
       "    <tr>\n",
       "      <th>9</th>\n",
       "      <td>272.61</td>\n",
       "      <td>Credit card</td>\n",
       "    </tr>\n",
       "    <tr>\n",
       "      <th>10</th>\n",
       "      <td>229.22</td>\n",
       "      <td>Credit card</td>\n",
       "    </tr>\n",
       "  </tbody>\n",
       "</table>\n",
       "</div>"
      ],
      "text/plain": [
       "      total      payment\n",
       "0    134.83  Credit card\n",
       "1    173.61         Cash\n",
       "2    263.45  Credit card\n",
       "3    605.44     Transfer\n",
       "4    120.96  Credit card\n",
       "5   1494.80     Transfer\n",
       "6     54.41  Credit card\n",
       "7    224.38  Credit card\n",
       "8   1579.87     Transfer\n",
       "9    272.61  Credit card\n",
       "10   229.22  Credit card"
      ]
     },
     "execution_count": 28,
     "metadata": {},
     "output_type": "execute_result"
    }
   ],
   "source": [
    "sales.loc[0:10,[\"total\",\"payment\"]]"
   ]
  },
  {
   "cell_type": "markdown",
   "metadata": {},
   "source": [
    "## Data Aggregration"
   ]
  },
  {
   "cell_type": "markdown",
   "metadata": {},
   "source": [
    "**Describe data**"
   ]
  },
  {
   "cell_type": "code",
   "execution_count": 29,
   "metadata": {},
   "outputs": [
    {
     "data": {
      "text/html": [
       "<div>\n",
       "<style scoped>\n",
       "    .dataframe tbody tr th:only-of-type {\n",
       "        vertical-align: middle;\n",
       "    }\n",
       "\n",
       "    .dataframe tbody tr th {\n",
       "        vertical-align: top;\n",
       "    }\n",
       "\n",
       "    .dataframe thead th {\n",
       "        text-align: right;\n",
       "    }\n",
       "</style>\n",
       "<table border=\"1\" class=\"dataframe\">\n",
       "  <thead>\n",
       "    <tr style=\"text-align: right;\">\n",
       "      <th></th>\n",
       "      <th>quantity</th>\n",
       "      <th>unit_price</th>\n",
       "      <th>total</th>\n",
       "    </tr>\n",
       "  </thead>\n",
       "  <tbody>\n",
       "    <tr>\n",
       "      <th>count</th>\n",
       "      <td>1000.000000</td>\n",
       "      <td>1000.000000</td>\n",
       "      <td>1000.000000</td>\n",
       "    </tr>\n",
       "    <tr>\n",
       "      <th>mean</th>\n",
       "      <td>9.395000</td>\n",
       "      <td>30.322040</td>\n",
       "      <td>289.113000</td>\n",
       "    </tr>\n",
       "    <tr>\n",
       "      <th>std</th>\n",
       "      <td>9.659207</td>\n",
       "      <td>12.256488</td>\n",
       "      <td>345.227596</td>\n",
       "    </tr>\n",
       "    <tr>\n",
       "      <th>min</th>\n",
       "      <td>1.000000</td>\n",
       "      <td>10.030000</td>\n",
       "      <td>10.350000</td>\n",
       "    </tr>\n",
       "    <tr>\n",
       "      <th>25%</th>\n",
       "      <td>4.000000</td>\n",
       "      <td>21.085000</td>\n",
       "      <td>93.687500</td>\n",
       "    </tr>\n",
       "    <tr>\n",
       "      <th>50%</th>\n",
       "      <td>6.500000</td>\n",
       "      <td>28.570000</td>\n",
       "      <td>178.360000</td>\n",
       "    </tr>\n",
       "    <tr>\n",
       "      <th>75%</th>\n",
       "      <td>10.000000</td>\n",
       "      <td>37.917500</td>\n",
       "      <td>321.690000</td>\n",
       "    </tr>\n",
       "    <tr>\n",
       "      <th>max</th>\n",
       "      <td>40.000000</td>\n",
       "      <td>66.620000</td>\n",
       "      <td>2546.330000</td>\n",
       "    </tr>\n",
       "  </tbody>\n",
       "</table>\n",
       "</div>"
      ],
      "text/plain": [
       "          quantity   unit_price        total\n",
       "count  1000.000000  1000.000000  1000.000000\n",
       "mean      9.395000    30.322040   289.113000\n",
       "std       9.659207    12.256488   345.227596\n",
       "min       1.000000    10.030000    10.350000\n",
       "25%       4.000000    21.085000    93.687500\n",
       "50%       6.500000    28.570000   178.360000\n",
       "75%      10.000000    37.917500   321.690000\n",
       "max      40.000000    66.620000  2546.330000"
      ]
     },
     "execution_count": 29,
     "metadata": {},
     "output_type": "execute_result"
    }
   ],
   "source": [
    "sales.describe()"
   ]
  },
  {
   "cell_type": "code",
   "execution_count": 78,
   "metadata": {},
   "outputs": [
    {
     "data": {
      "text/plain": [
       "(client_type  Retail  Wholesale\n",
       " warehouse                     \n",
       " Central         371        109\n",
       " North           263         77\n",
       " West            141         39,\n",
       " client_type            Retail  Wholesale\n",
       " product_line                            \n",
       " Breaking system           175         55\n",
       " Electrical system         155         38\n",
       " Engine                     48         13\n",
       " Frame & body              128         38\n",
       " Miscellaneous              92         30\n",
       " Suspension & traction     177         51)"
      ]
     },
     "execution_count": 78,
     "metadata": {},
     "output_type": "execute_result"
    }
   ],
   "source": [
    "pd.crosstab(sales[\"warehouse\"],sales[\"client_type\"]),pd.crosstab(sales[\"product_line\"],sales[\"client_type\"])"
   ]
  },
  {
   "cell_type": "code",
   "execution_count": 30,
   "metadata": {},
   "outputs": [
    {
     "data": {
      "text/html": [
       "<div>\n",
       "<style scoped>\n",
       "    .dataframe tbody tr th:only-of-type {\n",
       "        vertical-align: middle;\n",
       "    }\n",
       "\n",
       "    .dataframe tbody tr th {\n",
       "        vertical-align: top;\n",
       "    }\n",
       "\n",
       "    .dataframe thead th {\n",
       "        text-align: right;\n",
       "    }\n",
       "</style>\n",
       "<table border=\"1\" class=\"dataframe\">\n",
       "  <thead>\n",
       "    <tr style=\"text-align: right;\">\n",
       "      <th>client_type</th>\n",
       "      <th>Retail</th>\n",
       "      <th>Wholesale</th>\n",
       "    </tr>\n",
       "    <tr>\n",
       "      <th>warehouse</th>\n",
       "      <th></th>\n",
       "      <th></th>\n",
       "    </tr>\n",
       "  </thead>\n",
       "  <tbody>\n",
       "    <tr>\n",
       "      <th>Central</th>\n",
       "      <td>371</td>\n",
       "      <td>109</td>\n",
       "    </tr>\n",
       "    <tr>\n",
       "      <th>North</th>\n",
       "      <td>263</td>\n",
       "      <td>77</td>\n",
       "    </tr>\n",
       "    <tr>\n",
       "      <th>West</th>\n",
       "      <td>141</td>\n",
       "      <td>39</td>\n",
       "    </tr>\n",
       "  </tbody>\n",
       "</table>\n",
       "</div>"
      ],
      "text/plain": [
       "client_type  Retail  Wholesale\n",
       "warehouse                     \n",
       "Central         371        109\n",
       "North           263         77\n",
       "West            141         39"
      ]
     },
     "execution_count": 30,
     "metadata": {},
     "output_type": "execute_result"
    }
   ],
   "source": [
    "pd.crosstab(sales[\"warehouse\"],sales[\"client_type\"])"
   ]
  },
  {
   "cell_type": "markdown",
   "metadata": {},
   "source": [
    "**Return the subset of a data**"
   ]
  },
  {
   "cell_type": "code",
   "execution_count": 35,
   "metadata": {},
   "outputs": [
    {
     "data": {
      "text/html": [
       "<div>\n",
       "<style scoped>\n",
       "    .dataframe tbody tr th:only-of-type {\n",
       "        vertical-align: middle;\n",
       "    }\n",
       "\n",
       "    .dataframe tbody tr th {\n",
       "        vertical-align: top;\n",
       "    }\n",
       "\n",
       "    .dataframe thead th {\n",
       "        text-align: right;\n",
       "    }\n",
       "</style>\n",
       "<table border=\"1\" class=\"dataframe\">\n",
       "  <thead>\n",
       "    <tr style=\"text-align: right;\">\n",
       "      <th></th>\n",
       "      <th>date</th>\n",
       "      <th>warehouse</th>\n",
       "      <th>client_type</th>\n",
       "      <th>product_line</th>\n",
       "      <th>quantity</th>\n",
       "      <th>unit_price</th>\n",
       "      <th>total</th>\n",
       "      <th>payment</th>\n",
       "    </tr>\n",
       "  </thead>\n",
       "  <tbody>\n",
       "    <tr>\n",
       "      <th>48</th>\n",
       "      <td>6/6/2021</td>\n",
       "      <td>Central</td>\n",
       "      <td>Wholesale</td>\n",
       "      <td>Engine</td>\n",
       "      <td>36</td>\n",
       "      <td>63.41</td>\n",
       "      <td>2282.82</td>\n",
       "      <td>Transfer</td>\n",
       "    </tr>\n",
       "    <tr>\n",
       "      <th>60</th>\n",
       "      <td>7/6/2021</td>\n",
       "      <td>Central</td>\n",
       "      <td>Wholesale</td>\n",
       "      <td>Suspension &amp; traction</td>\n",
       "      <td>40</td>\n",
       "      <td>28.64</td>\n",
       "      <td>1145.47</td>\n",
       "      <td>Transfer</td>\n",
       "    </tr>\n",
       "    <tr>\n",
       "      <th>141</th>\n",
       "      <td>15/06/2021</td>\n",
       "      <td>Central</td>\n",
       "      <td>Wholesale</td>\n",
       "      <td>Engine</td>\n",
       "      <td>28</td>\n",
       "      <td>63.54</td>\n",
       "      <td>1779.07</td>\n",
       "      <td>Transfer</td>\n",
       "    </tr>\n",
       "    <tr>\n",
       "      <th>146</th>\n",
       "      <td>15/06/2021</td>\n",
       "      <td>Central</td>\n",
       "      <td>Wholesale</td>\n",
       "      <td>Frame &amp; body</td>\n",
       "      <td>24</td>\n",
       "      <td>48.95</td>\n",
       "      <td>1174.88</td>\n",
       "      <td>Transfer</td>\n",
       "    </tr>\n",
       "    <tr>\n",
       "      <th>176</th>\n",
       "      <td>18/06/2021</td>\n",
       "      <td>Central</td>\n",
       "      <td>Wholesale</td>\n",
       "      <td>Frame &amp; body</td>\n",
       "      <td>36</td>\n",
       "      <td>48.44</td>\n",
       "      <td>1743.78</td>\n",
       "      <td>Transfer</td>\n",
       "    </tr>\n",
       "  </tbody>\n",
       "</table>\n",
       "</div>"
      ],
      "text/plain": [
       "           date warehouse client_type           product_line  quantity  \\\n",
       "48     6/6/2021   Central   Wholesale                 Engine        36   \n",
       "60     7/6/2021   Central   Wholesale  Suspension & traction        40   \n",
       "141  15/06/2021   Central   Wholesale                 Engine        28   \n",
       "146  15/06/2021   Central   Wholesale           Frame & body        24   \n",
       "176  18/06/2021   Central   Wholesale           Frame & body        36   \n",
       "\n",
       "     unit_price    total   payment  \n",
       "48        63.41  2282.82  Transfer  \n",
       "60        28.64  1145.47  Transfer  \n",
       "141       63.54  1779.07  Transfer  \n",
       "146       48.95  1174.88  Transfer  \n",
       "176       48.44  1743.78  Transfer  "
      ]
     },
     "execution_count": 35,
     "metadata": {},
     "output_type": "execute_result"
    }
   ],
   "source": [
    "sales[(sales[\"total\"] > 1000) & (sales[\"warehouse\"] == \"Central\")].head()."
   ]
  },
  {
   "cell_type": "code",
   "execution_count": 89,
   "metadata": {},
   "outputs": [
    {
     "data": {
      "text/html": [
       "<div>\n",
       "<style scoped>\n",
       "    .dataframe tbody tr th:only-of-type {\n",
       "        vertical-align: middle;\n",
       "    }\n",
       "\n",
       "    .dataframe tbody tr th {\n",
       "        vertical-align: top;\n",
       "    }\n",
       "\n",
       "    .dataframe thead th {\n",
       "        text-align: right;\n",
       "    }\n",
       "</style>\n",
       "<table border=\"1\" class=\"dataframe\">\n",
       "  <thead>\n",
       "    <tr style=\"text-align: right;\">\n",
       "      <th></th>\n",
       "      <th>date</th>\n",
       "      <th>warehouse</th>\n",
       "      <th>client_type</th>\n",
       "      <th>product_line</th>\n",
       "      <th>quantity</th>\n",
       "      <th>unit_price</th>\n",
       "      <th>total</th>\n",
       "      <th>payment</th>\n",
       "    </tr>\n",
       "  </thead>\n",
       "  <tbody>\n",
       "    <tr>\n",
       "      <th>48</th>\n",
       "      <td>06/06/2021</td>\n",
       "      <td>Central</td>\n",
       "      <td>Wholesale</td>\n",
       "      <td>Engine</td>\n",
       "      <td>36</td>\n",
       "      <td>63.41</td>\n",
       "      <td>2282.82</td>\n",
       "      <td>Transfer</td>\n",
       "    </tr>\n",
       "    <tr>\n",
       "      <th>60</th>\n",
       "      <td>07/06/2021</td>\n",
       "      <td>Central</td>\n",
       "      <td>Wholesale</td>\n",
       "      <td>Suspension &amp; traction</td>\n",
       "      <td>40</td>\n",
       "      <td>28.64</td>\n",
       "      <td>1145.47</td>\n",
       "      <td>Transfer</td>\n",
       "    </tr>\n",
       "    <tr>\n",
       "      <th>141</th>\n",
       "      <td>15/06/2021</td>\n",
       "      <td>Central</td>\n",
       "      <td>Wholesale</td>\n",
       "      <td>Engine</td>\n",
       "      <td>28</td>\n",
       "      <td>63.54</td>\n",
       "      <td>1779.07</td>\n",
       "      <td>Transfer</td>\n",
       "    </tr>\n",
       "    <tr>\n",
       "      <th>146</th>\n",
       "      <td>15/06/2021</td>\n",
       "      <td>Central</td>\n",
       "      <td>Wholesale</td>\n",
       "      <td>Frame &amp; body</td>\n",
       "      <td>24</td>\n",
       "      <td>48.95</td>\n",
       "      <td>1174.88</td>\n",
       "      <td>Transfer</td>\n",
       "    </tr>\n",
       "    <tr>\n",
       "      <th>176</th>\n",
       "      <td>18/06/2021</td>\n",
       "      <td>Central</td>\n",
       "      <td>Wholesale</td>\n",
       "      <td>Frame &amp; body</td>\n",
       "      <td>36</td>\n",
       "      <td>48.44</td>\n",
       "      <td>1743.78</td>\n",
       "      <td>Transfer</td>\n",
       "    </tr>\n",
       "  </tbody>\n",
       "</table>\n",
       "</div>"
      ],
      "text/plain": [
       "           date warehouse client_type           product_line  quantity  \\\n",
       "48   06/06/2021   Central   Wholesale                 Engine        36   \n",
       "60   07/06/2021   Central   Wholesale  Suspension & traction        40   \n",
       "141  15/06/2021   Central   Wholesale                 Engine        28   \n",
       "146  15/06/2021   Central   Wholesale           Frame & body        24   \n",
       "176  18/06/2021   Central   Wholesale           Frame & body        36   \n",
       "\n",
       "     unit_price    total   payment  \n",
       "48        63.41  2282.82  Transfer  \n",
       "60        28.64  1145.47  Transfer  \n",
       "141       63.54  1779.07  Transfer  \n",
       "146       48.95  1174.88  Transfer  \n",
       "176       48.44  1743.78  Transfer  "
      ]
     },
     "execution_count": 89,
     "metadata": {},
     "output_type": "execute_result"
    }
   ],
   "source": [
    "subset = sales[(sales[\"total\"] > 1000) & (sales[\"warehouse\"] == \"Central\")].head()\n",
    "subset"
   ]
  },
  {
   "cell_type": "markdown",
   "metadata": {},
   "source": [
    "**Obtaining the average sales made in each warehouse and payment**"
   ]
  },
  {
   "cell_type": "code",
   "execution_count": 38,
   "metadata": {},
   "outputs": [
    {
     "data": {
      "text/plain": [
       "client_type  payment    \n",
       "Retail       Cash           165.509483\n",
       "             Credit card    167.331669\n",
       "Wholesale    Transfer       709.521467\n",
       "Name: total, dtype: float64"
      ]
     },
     "execution_count": 38,
     "metadata": {},
     "output_type": "execute_result"
    }
   ],
   "source": [
    "sales.groupby([\"client_type\",\"payment\"]).mean()[\"total\"]"
   ]
  },
  {
   "cell_type": "markdown",
   "metadata": {},
   "source": [
    "## Visualization"
   ]
  },
  {
   "cell_type": "markdown",
   "metadata": {},
   "source": [
    "**Number of sales made by payment type**"
   ]
  },
  {
   "cell_type": "code",
   "execution_count": 39,
   "metadata": {},
   "outputs": [
    {
     "data": {
      "text/plain": [
       "<AxesSubplot:>"
      ]
     },
     "execution_count": 39,
     "metadata": {},
     "output_type": "execute_result"
    },
    {
     "data": {
      "image/png": "[encoded data removed]",
      "text/plain": [
       "<Figure size 640x480 with 1 Axes>"
      ]
     },
     "metadata": {},
     "output_type": "display_data"
    }
   ],
   "source": [
    "sales.client_type.value_counts().plot(kind = \"bar\")"
   ]
  },
  {
   "cell_type": "code",
   "execution_count": 5,
   "metadata": {},
   "outputs": [
    {
     "data": {
      "text/plain": [
       "<AxesSubplot: >"
      ]
     },
     "execution_count": 5,
     "metadata": {},
     "output_type": "execute_result"
    },
    {
     "data": {
      "image/png": "[encoded data removed]",
      "text/plain": [
       "<Figure size 640x480 with 1 Axes>"
      ]
     },
     "metadata": {},
     "output_type": "display_data"
    }
   ],
   "source": [
    "sales.warehouse.value_counts().plot(kind = \"bar\")"
   ]
  },
  {
   "cell_type": "markdown",
   "metadata": {},
   "source": [
    "**Total sales made from each payment method**"
   ]
  },
  {
   "cell_type": "code",
   "execution_count": null,
   "metadata": {},
   "outputs": [],
   "source": []
  },
  {
   "cell_type": "code",
   "execution_count": 41,
   "metadata": {
    "scrolled": true
   },
   "outputs": [
    {
     "data": {
      "text/plain": [
       "<AxesSubplot:xlabel='warehouse'>"
      ]
     },
     "execution_count": 41,
     "metadata": {},
     "output_type": "execute_result"
    },
    {
     "data": {
      "image/png": "[encoded data removed]",
      "text/plain": [
       "<Figure size 640x480 with 1 Axes>"
      ]
     },
     "metadata": {},
     "output_type": "display_data"
    }
   ],
   "source": [
    "sales.groupby(\"warehouse\")[\"total\"].agg(np.sum).plot(kind = \"bar\")"
   ]
  },
  {
   "cell_type": "code",
   "execution_count": null,
   "metadata": {},
   "outputs": [],
   "source": [
    "conda install numpy\n",
    "conda install pandas\n",
    "conda install matplotlib"
   ]
  }
 ],
 "metadata": {
  "kernelspec": {
   "display_name": "Python 3 (ipykernel)",
   "language": "python",
   "name": "python3"
  },
  "language_info": {
   "codemirror_mode": {
    "name": "ipython",
    "version": 3
   },
   "file_extension": ".py",
   "mimetype": "text/x-python",
   "name": "python",
   "nbconvert_exporter": "python",
   "pygments_lexer": "ipython3",
   "version": "3.10.5"
  },
  "vscode": {
   "interpreter": {
    "hash": "26de051ba29f2982a8de78e945f0abaf191376122a1563185a90213a26c5da77"
   }
  }
 },
 "nbformat": 4,
 "nbformat_minor": 2
}
